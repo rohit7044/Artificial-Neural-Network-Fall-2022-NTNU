{
  "cells": [
    {
      "cell_type": "code",
      "execution_count": 1,
      "metadata": {
        "id": "CJgfePrFarAN"
      },
      "outputs": [],
      "source": [
        "# !pip3 install torch==1.2.0+cu92 torchvision==0.4.0+cu92 -f https://download.pytorch.org/whl/torch_stable.html"
      ]
    },
    {
      "cell_type": "code",
      "execution_count": 2,
      "metadata": {
        "id": "QMCRXW7o5fFV"
      },
      "outputs": [],
      "source": [
        "import numpy as np\n",
        "import pandas as pd\n"
      ]
    },
    {
      "cell_type": "code",
      "execution_count": 3,
      "metadata": {
        "id": "ytiTdNPG6aNv"
      },
      "outputs": [],
      "source": [
        "filepath = \"/content/sample_data/1795_history.csv\"\n",
        "data = np.genfromtxt(filepath, delimiter='\\t', dtype=str)[1:]"
      ]
    },
    {
      "cell_type": "code",
      "execution_count": 4,
      "metadata": {
        "id": "UY5OV0es0oYx"
      },
      "outputs": [],
      "source": [
        "date   = data[:, 0]\n",
        "open   = data[:, 1]\n",
        "high   = data[:, 2]\n",
        "low    = data[:, 3]\n",
        "close  = data[:, 4]\n",
        "volume = data[:, 5]\n",
        "prices = np.array([close for date, open, high, low, close, volume in data]).astype(np.float64)\n",
        "price = np.flip(prices)\n",
        "price =pd.DataFrame(price, columns = ['Close'])\n"
      ]
    },
    {
      "cell_type": "code",
      "execution_count": 5,
      "metadata": {
        "colab": {
          "base_uri": "https://localhost:8080/"
        },
        "id": "2Vw3rSvzcYfI",
        "outputId": "a1a3320a-c0f3-4004-da14-3874802d8274"
      },
      "outputs": [
        {
          "output_type": "execute_result",
          "data": {
            "text/plain": [
              "(2453, 1)"
            ]
          },
          "metadata": {},
          "execution_count": 5
        }
      ],
      "source": [
        "price.shape"
      ]
    },
    {
      "cell_type": "code",
      "execution_count": 6,
      "metadata": {
        "id": "eI8K3h1foTOT"
      },
      "outputs": [],
      "source": [
        "def split_data(stock, lookback):\n",
        "    data_raw = stock.to_numpy() # convert to numpy array\n",
        "    data = []\n",
        "    \n",
        "    # create all possible sequences of length seq_len\n",
        "    for index in range(len(data_raw) - lookback): \n",
        "        data.append(data_raw[index: index + lookback])\n",
        "    \n",
        "    data = np.array(data);\n",
        "    test_set_size = int(np.round(0.2*data.shape[0]));\n",
        "    train_set_size = data.shape[0] - (test_set_size);\n",
        "    \n",
        "    x_train = data[:train_set_size,:-1,:]\n",
        "    y_train = data[:train_set_size,-1,:]\n",
        "    \n",
        "    x_test = data[train_set_size:,:-1]\n",
        "    y_test = data[train_set_size:,-1,:]\n",
        "    \n",
        "    return [x_train, y_train, x_test, y_test]\n",
        "lookback = 5 # choose sequence length\n",
        "x_train, y_train, x_test, y_test = split_data(price, lookback)"
      ]
    },
    {
      "cell_type": "code",
      "execution_count": 7,
      "metadata": {
        "id": "rrvU8S3QdmP5"
      },
      "outputs": [],
      "source": [
        "# x_train"
      ]
    },
    {
      "cell_type": "code",
      "execution_count": 8,
      "metadata": {
        "id": "TB6Jix69ul7f"
      },
      "outputs": [],
      "source": [
        "import torch\n",
        "import torch.nn as nn\n",
        "import torch.optim as optim"
      ]
    },
    {
      "cell_type": "code",
      "execution_count": 9,
      "metadata": {
        "id": "lb6LdnHPuu1n"
      },
      "outputs": [],
      "source": [
        "x_train = torch.from_numpy(x_train).type(torch.Tensor)\n",
        "x_test = torch.from_numpy(x_test).type(torch.Tensor)\n",
        "y_train_lstm = torch.from_numpy(y_train).type(torch.Tensor)\n",
        "y_test_lstm = torch.from_numpy(y_test).type(torch.Tensor)"
      ]
    },
    {
      "cell_type": "code",
      "execution_count": 10,
      "metadata": {
        "id": "Mwblpgh4eMaf"
      },
      "outputs": [],
      "source": [
        "# x_train"
      ]
    },
    {
      "cell_type": "code",
      "source": [
        "input_dim = 1\n",
        "hidden_dim = 16\n",
        "num_layers = 2\n",
        "output_dim = 1"
      ],
      "metadata": {
        "id": "eAkkkNtOuIeM"
      },
      "execution_count": 11,
      "outputs": []
    },
    {
      "cell_type": "code",
      "execution_count": 12,
      "metadata": {
        "id": "AQcKkaEfvBDa"
      },
      "outputs": [],
      "source": [
        "class LSTM(nn.Module):\n",
        "    def __init__(self, input_dim, hidden_dim, num_layers, output_dim):\n",
        "        super(LSTM, self).__init__()\n",
        "        self.hidden_dim = hidden_dim\n",
        "        self.num_layers = num_layers\n",
        "        self.lstm = nn.LSTM(input_dim, hidden_dim, num_layers,dropout = 0.5, batch_first=True)\n",
        "        self.fc = nn.Linear(hidden_dim, output_dim)\n",
        "\n",
        "    def forward(self, x):\n",
        "        h0 = torch.zeros(self.num_layers, x.size(0), self.hidden_dim).requires_grad_()\n",
        "        c0 = torch.zeros(self.num_layers, x.size(0), self.hidden_dim).requires_grad_()\n",
        "        out, (hn, cn) = self.lstm(x, (h0.detach(), c0.detach()))\n",
        "        out = self.fc(out[:, -1, :]) \n",
        "        return out"
      ]
    },
    {
      "cell_type": "code",
      "execution_count": 13,
      "metadata": {
        "id": "0bLRImcikIQL"
      },
      "outputs": [],
      "source": [
        "# class LSTM(nn.Module):\n",
        "#     def __init__(self, lookback, num_layers=2, dropout=0.5, bidirectional=True):\n",
        "#         super(LSTM, self).__init__()\n",
        "\n",
        "#         # Nerual Layers\n",
        "#         self.rnn   = nn.LSTM(lookback, 32, num_layers, dropout=dropout, bidirectional=True)\n",
        "#         self.ly_a  = nn.Linear(32*(2 if bidirectional else 1), 16)\n",
        "#         # self.ly_a  = nn.Linear(look_back, 16)\n",
        "#         self.relu  = nn.ReLU()\n",
        "#         self.reg   = nn.Linear(16, 1)\n",
        "\n",
        "#     def predict(self, input):\n",
        "#         with torch.no_grad():\n",
        "#             return self.forward(input).item()\n",
        "\n",
        "#     def forward(self, input):\n",
        "#         r_out, (h_n, h_c) = self.rnn(input.unsqueeze(1), None)\n",
        "#         # print(r_out.shape)\n",
        "#         # input()\n",
        "#         logits = self.reg(self.relu(self.ly_a(r_out.squeeze(1))))\n",
        "#         # logits = self.reg(self.relu(self.ly_a(input)))\n",
        "\n",
        "#         return logits"
      ]
    },
    {
      "cell_type": "code",
      "execution_count": 14,
      "metadata": {
        "id": "IfSXXilbvhRu"
      },
      "outputs": [],
      "source": [
        "model = LSTM(input_dim=input_dim, hidden_dim=hidden_dim, output_dim=output_dim, num_layers=num_layers)\n",
        "criterion = torch.nn.MSELoss(reduction='mean')\n",
        "optimizer = torch.optim.Adam(model.parameters(), lr=0.01)"
      ]
    },
    {
      "cell_type": "code",
      "execution_count": null,
      "metadata": {
        "id": "gao4am2twbAR"
      },
      "outputs": [],
      "source": [
        "import time\n",
        "num_epochs =5000\n",
        "hist = np.zeros(num_epochs)\n",
        "start_time = time.time()\n",
        "lstm = []\n",
        "\n",
        "for t in range(num_epochs):\n",
        "    y_train_pred = model(x_train)\n",
        "\n",
        "    loss = criterion(y_train_pred, y_train_lstm)\n",
        "    print(\"Epoch \", t, \"MSE: \", loss.item())\n",
        "    hist[t] = loss.item()\n",
        "\n",
        "    optimizer.zero_grad()\n",
        "    loss.backward()\n",
        "    optimizer.step()\n",
        "    \n",
        "training_time = time.time()-start_time\n",
        "print(\"Training time: {}\".format(training_time))"
      ]
    },
    {
      "cell_type": "code",
      "execution_count": 25,
      "metadata": {
        "colab": {
          "base_uri": "https://localhost:8080/"
        },
        "id": "_1Niwp_W4nLa",
        "outputId": "20ad72c9-5ade-4c82-8913-730827f69a5c"
      },
      "outputs": [
        {
          "output_type": "stream",
          "name": "stdout",
          "text": [
            "Predict Result tensor([[126.5784]], grad_fn=<AddmmBackward0>)\n"
          ]
        },
        {
          "output_type": "stream",
          "name": "stderr",
          "text": [
            "/usr/local/lib/python3.7/dist-packages/ipykernel_launcher.py:5: UserWarning: To copy construct from a tensor, it is recommended to use sourceTensor.clone().detach() or sourceTensor.clone().detach().requires_grad_(True), rather than torch.tensor(sourceTensor).\n",
            "  \"\"\"\n"
          ]
        }
      ],
      "source": [
        "predict_data = [[[124.50],[125.506],[125.457],[124.173]]]\n",
        "predict_data_arr = np.array(predict_data)\n",
        "predict_data_arr_tensor = torch.tensor(predict_data_arr,dtype = torch.float32)\n",
        "predict_data_arr_tensor\n",
        "predict = model.forward(torch.tensor(predict_data_arr_tensor))\n",
        "print('Predict Result', predict)"
      ]
    },
    {
      "cell_type": "code",
      "execution_count": 17,
      "metadata": {
        "id": "a5LzY86q6DIz"
      },
      "outputs": [],
      "source": [
        "# print(model)\n"
      ]
    },
    {
      "cell_type": "code",
      "execution_count": 18,
      "metadata": {
        "id": "tT1JQqL3tcje"
      },
      "outputs": [],
      "source": [
        "# from sklearn.preprocessing import MinMaxScaler\n",
        "# scaler = MinMaxScaler(feature_range=(-1, 1))\n",
        "# price['Close'] = scaler.fit_transform(price['Close'].values.reshape(-1,1))\n",
        "# predict = pd.DataFrame(scaler.inverse_transform(y_train_pred.detach().numpy()))\n",
        "# original = pd.DataFrame(scaler.inverse_transform(y_train_lstm.detach().numpy()))"
      ]
    },
    {
      "cell_type": "code",
      "source": [
        "# import seaborn as sns\n",
        "# import matplotlib.pyplot as plt\n",
        "# sns.set_style(\"darkgrid\")    \n",
        "\n",
        "# fig = plt.figure()\n",
        "# fig.subplots_adjust(hspace=0.2, wspace=0.2)\n",
        "\n",
        "# plt.subplot(1, 2, 1)\n",
        "# ax = sns.lineplot(x = original.index, y = original[0], label=\"Data\", color='royalblue')\n",
        "# ax = sns.lineplot(x = predict.index, y = predict[0], label=\"Training Prediction (LSTM)\", color='tomato')\n",
        "# ax.set_title('Stock price', size = 14, fontweight='bold')\n",
        "# ax.set_xlabel(\"Days\", size = 14)\n",
        "# ax.set_ylabel(\"Cost (NTD)\", size = 14)\n",
        "# ax.set_xticklabels('', size=10)\n",
        "\n",
        "\n",
        "# plt.subplot(1, 2, 2)\n",
        "# ax = sns.lineplot(data=hist, color='royalblue')\n",
        "# ax.set_xlabel(\"Epoch\", size = 14)\n",
        "# ax.set_ylabel(\"Loss\", size = 14)\n",
        "# ax.set_title(\"Training Loss\", size = 14, fontweight='bold')\n",
        "# fig.set_figheight(6)\n",
        "# fig.set_figwidth(16)"
      ],
      "metadata": {
        "id": "SNAFzN_Sp0lr"
      },
      "execution_count": 19,
      "outputs": []
    },
    {
      "cell_type": "code",
      "source": [
        "# import math, time\n",
        "# from sklearn.metrics import mean_squared_error\n",
        "\n",
        "# # make predictions\n",
        "# y_test_pred = model(x_test)\n",
        "\n",
        "# # invert predictions\n",
        "# y_train_pred = scaler.inverse_transform(y_train_pred.detach().numpy())\n",
        "# y_train = scaler.inverse_transform(y_train_lstm.detach().numpy())\n",
        "# y_test_pred = scaler.inverse_transform(y_test_pred.detach().numpy())\n",
        "# y_test = scaler.inverse_transform(y_test_lstm.detach().numpy())\n",
        "\n",
        "# # calculate root mean squared error\n",
        "# trainScore = math.sqrt(mean_squared_error(y_train[:,0], y_train_pred[:,0]))\n",
        "# print('Train Score: %.2f RMSE' % (trainScore))\n",
        "# testScore = math.sqrt(mean_squared_error(y_test[:,0], y_test_pred[:,0]))\n",
        "# print('Test Score: %.2f RMSE' % (testScore))\n",
        "# lstm.append(trainScore)\n",
        "# lstm.append(testScore)\n",
        "# lstm.append(training_time)"
      ],
      "metadata": {
        "id": "QGhHzVegqJsE"
      },
      "execution_count": 20,
      "outputs": []
    },
    {
      "cell_type": "markdown",
      "source": [
        ""
      ],
      "metadata": {
        "id": "puY0knSRqWzI"
      }
    }
  ],
  "metadata": {
    "colab": {
      "collapsed_sections": [],
      "name": "Assignment1.ipynb",
      "provenance": []
    },
    "kernelspec": {
      "display_name": "Python 3",
      "name": "python3"
    },
    "language_info": {
      "name": "python"
    }
  },
  "nbformat": 4,
  "nbformat_minor": 0
}